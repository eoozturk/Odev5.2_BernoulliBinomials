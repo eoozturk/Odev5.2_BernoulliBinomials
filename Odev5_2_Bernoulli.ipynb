{
  "nbformat": 4,
  "nbformat_minor": 0,
  "metadata": {
    "colab": {
      "name": "Odev5.2_Bernoulli.ipynb",
      "version": "0.3.2",
      "provenance": [],
      "collapsed_sections": [],
      "include_colab_link": true
    },
    "kernelspec": {
      "name": "python3",
      "display_name": "Python 3"
    }
  },
  "cells": [
    {
      "cell_type": "markdown",
      "metadata": {
        "id": "view-in-github",
        "colab_type": "text"
      },
      "source": [
        "<a href=\"https://colab.research.google.com/github/eoozturk/Odev5.2_BernoulliBinomials/blob/master/Odev5_2_Bernoulli.ipynb\" target=\"_parent\"><img src=\"https://colab.research.google.com/assets/colab-badge.svg\" alt=\"Open In Colab\"/></a>"
      ]
    },
    {
      "cell_type": "markdown",
      "metadata": {
        "id": "ODtxH-t99rp5",
        "colab_type": "text"
      },
      "source": [
        "**Soru: Bernoulli**\n",
        "\n",
        "Bir öğrenci istatistik dersinden geçme olasılığının 0.7 olduğuna inanmaktadır. Olasılık dağılımının fonksiyonunu yazınız. Beklenen Değer \"E[X]\" ve Varyansını \"Var[X]\" hesaplayınız. \n",
        "\n",
        "**Çözüm:**\n",
        "\n",
        "Öğrenci dersten geçerse X rassal değişkeni k = 1 ve kalırsa k = 0 değerini alsın:\n",
        "\n",
        "P (k=1) = 0.7 ve P (k=0) = 0.3 ise,\n",
        "\n",
        "P(X=1)= 0.7^1 x (1-0.7)^0= 0.7^1 x 0.3^0= 0.7\n",
        "\n",
        "P(X=0)= 0.7^0 x (1-0.7)^1= 0.7^0 x 0.3^1= 0.3\n",
        "\n",
        "E[X] = p = 0.7\n",
        "\n",
        "Var[X]= p (1 – p) = 0.7 x 0.3= 0.21\n",
        "\n",
        "**Açıklama:**\n",
        "\n",
        "Bir deneyde başarı ve başarısızlık diye nitelendirilen iki sonuçla ilgilenildiğinde bu deneye (iki sonuçlu) Bernoulli deneyi ya da Bernoulli denemesi denir.\n",
        "\n",
        "Başarı olasılığı: p , Başarısızlık olasılığı: 1-p= q\n",
        "\n",
        "P(X=k)= p^k (1-p)^1-k,  k=0,1\n",
        "\n",
        "E[X]= p\n",
        "\n",
        "Var[X]= pq\n",
        "\n",
        "Soruda ilk olarak başarı ve başarısızlık durumları p ve q belirlenir. Daha sonra bernoulli kuralına göre başarı ve başarısızlığın olasılık dağılım fonksiyonları P(X=1) ve P(X=0) yazılır. Daha sonra ise yine bernoulli kuralına göre beklenen değer \"E[X]\" ve varyans \"Var[X]\" hesaplanır."
      ]
    },
    {
      "cell_type": "code",
      "metadata": {
        "id": "l4N6aSUl9kgj",
        "colab_type": "code",
        "colab": {
          "base_uri": "https://localhost:8080/",
          "height": 123
        },
        "outputId": "4a28bbed-4920-47b9-cdf2-793b399a053d"
      },
      "source": [
        "# Emre Ozan Öztürk\n",
        "\n",
        "def bernoulliHesapla(n):\n",
        "  \n",
        "  p= n # Başarı Durumu\n",
        "  q= 1-p # Başarısızlık Durumu\n",
        "  \n",
        "  p1= (p**1)*(q**0) # P(X=1) Başarı Durumunun Olasılık Fonksiyonu\n",
        "  p0= (p**0)*(q**1) # P(X=0) Başarısızlık Durumunun Olasılık Fonksiyonu\n",
        "  \n",
        "  eX= p # Beklenen Değerin \"E[X]\" Hesaplanması\n",
        "  varX= p*q # Varyansın \"Var[X]\" Hesaplanması\n",
        "  \n",
        "  sonucList= [p1, p0, eX, varX]\n",
        "  \n",
        "  return sonucList\n",
        "\n",
        "yazList= bernoulliHesapla(0.7)\n",
        "\n",
        "print(\"P(X=1) = 0.7^1x(1-0.7)^0 = \",yazList[0])\n",
        "print(\"P(X=0) = 0.7^0 x (1-0.7)^1 = \",yazList[1])\n",
        "print(\"\\n\")\n",
        "print(\"E[X] = p = \",yazList[2])\n",
        "print(\"Var[X] = p*q= 0.7*0.3 = \",yazList[3])\n"
      ],
      "execution_count": 4,
      "outputs": [
        {
          "output_type": "stream",
          "text": [
            "P(X=1) = 0.7^1x(1-0.7)^0 =  0.7\n",
            "P(X=0) = 0.7^0 x (1-0.7)^1 =  0.30000000000000004\n",
            "\n",
            "\n",
            "E[X] = p =  0.7\n",
            "Var[X] = p*q= 0.7*0.3 =  0.21000000000000002\n"
          ],
          "name": "stdout"
        }
      ]
    }
  ]
}