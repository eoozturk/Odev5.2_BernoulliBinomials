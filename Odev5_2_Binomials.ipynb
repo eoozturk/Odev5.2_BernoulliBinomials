{
  "nbformat": 4,
  "nbformat_minor": 0,
  "metadata": {
    "colab": {
      "name": "Odev5.2_Binomials.ipynb",
      "version": "0.3.2",
      "provenance": [],
      "collapsed_sections": [],
      "include_colab_link": true
    },
    "kernelspec": {
      "name": "python3",
      "display_name": "Python 3"
    }
  },
  "cells": [
    {
      "cell_type": "markdown",
      "metadata": {
        "id": "view-in-github",
        "colab_type": "text"
      },
      "source": [
        "<a href=\"https://colab.research.google.com/github/eoozturk/Odev5.2_BernoulliBinomials/blob/master/Odev5_2_Binomials.ipynb\" target=\"_parent\"><img src=\"https://colab.research.google.com/assets/colab-badge.svg\" alt=\"Open In Colab\"/></a>"
      ]
    },
    {
      "cell_type": "markdown",
      "metadata": {
        "id": "lSkWoxKXSukP",
        "colab_type": "text"
      },
      "source": [
        "**Soru: Binomials**\n",
        "\n",
        "Bir madeni para N kere atılmaktadır. 0 tane,1 tane,2 tane ve 3 tane yazı gelme olasılıkları sırasıyla nedir?\n",
        "Beklenen değer(Aritmetik ortalama) ve Varyansını hesaplayınız.\n",
        "\n",
        "**Çözüm:**\n",
        "\n",
        "N=4 için:\n",
        "\n",
        "0 tane Yazı Gelme Olasılığı:\n",
        "\n",
        "P(X=0) = 4!/(4-0)!x0! x 0.5^0x0.5^4 = 0.0625\n",
        "\n",
        "1 tane Yazı Gelme Olasılığı:\n",
        "\n",
        "P(X=1) = 4!/(4-1)!x1! x 0.5^1x0.5^3 = 0.25\n",
        "\n",
        "2 tane Yazı Gelme Olasılığı:\n",
        "\n",
        "P(X=2) = 4!/(4-2)!x2! x 0.5^2x0.5^2 = 0.375\n",
        "\n",
        "3 tane Yazı Gelme Olasılığı:\n",
        "\n",
        "P(X=3) = 4!/(4-3)!x3! x 0.5^3x0.5^1 = 0.25\n",
        "\n",
        "E[X] = nxp = 4x0.5 = 2\n",
        "\n",
        "Var[X] = nxpx(1-p) = 4x0.5 x (1-0.5)= 1\n",
        "\n",
        "**Açıklama:**\n",
        "\n",
        "Başarı olasılığı p olan bir Bernoulli deneyinin aynı şartlar altında (bağımsız olarak) n kez tekrarlanması ile oluşan deneylerdir.\n",
        "\n",
        "P(X=k)= C(n,k)p^k(1-p)^n-k , k= 0,1,2......,n                     \n",
        "\n",
        "E[X]= np \n",
        "\n",
        "Var[X]= np(1-p)\n",
        "\n",
        "Hesaplamalar sırasında kullanılacak olan paranın yazı gelme olasılığı \"p=0.5\" olarak alınır. Soruda istenilene göre ilk önce 0, 1 ,2, ve 3 tane yazı gelme olasılıkları sırası ile binomials kuralına göre hesaplanır. Daha sonra  beklenen değer \"E[X]\" ve son olarak da binomials kuralına göre varyans \"Var[X]\" hesaplanır. "
      ]
    },
    {
      "cell_type": "code",
      "metadata": {
        "id": "UQ-yYQfXSoRM",
        "colab_type": "code",
        "outputId": "96252fe7-0471-437e-b8e7-fbdf06cc9050",
        "colab": {
          "base_uri": "https://localhost:8080/",
          "height": 212
        }
      },
      "source": [
        "# Emre Ozan Öztürk\n",
        "\n",
        "#Kombinasyon hesabı için yardımcı faktöriyel hesaplama\n",
        "def faktoriyelHesapla(n):\n",
        "    if n==1:\n",
        "        return 1\n",
        "    else:\n",
        "        return n* faktoriyelHesapla(n-1)\n",
        "#Binomials formülündeki kombinasyon hesabı için yardımcı kombinasyon hesaplama\n",
        "def kombinasyonHesapla(x,y):\n",
        "    if y==0:\n",
        "        kombSonuc=1\n",
        "    else:\n",
        "        kombSonuc=int(faktoriyelHesapla(x)/(faktoriyelHesapla(y)*faktoriyelHesapla(x-y)))\n",
        "\n",
        "    return kombSonuc\n",
        "\n",
        "\n",
        "def binomialHesapla(n):\n",
        "\n",
        "    p=0.5 # Paranın Yazı Gelme Olasılığı\n",
        "\n",
        "    komb0= kombinasyonHesapla(n,0) # 0 Tane Yazı Gelme Olasılığı için Kombinasyon Hesaplama\n",
        "    pX0= komb0*( (p**0)*((1-p)**(n-0)) ) # 0 Tane Yazı Gelme Olasılığı\n",
        "    \n",
        "    komb1= kombinasyonHesapla(n,1) # 1 Tane Yazı Gelme Olasılığı için Kombinasyon Hesaplama\n",
        "    pX1= komb1*( (p**1)*((1-p)**(n-1)) ) # 1 Tane Yazı Gelme Olasılığı\n",
        "\n",
        "    komb2= kombinasyonHesapla(n,2) # 2 Tane Yazı Gelme Olasılığı için Kombinasyon Hesaplama\n",
        "    pX2= komb2*( (p**2)*((1-p)**(n-2)) ) # 2 Tane Yazı Gelme Olasılığı\n",
        "\n",
        "    komb3= kombinasyonHesapla(n,3) # 3 Tane Yazı Gelme Olasılığı için Kombinasyon Hesaplama\n",
        "    pX3= komb3*( (p**3)*((1-p)**(n-3)) ) # 3 Tane Yazı Gelme Olasılığı\n",
        "\n",
        "    EX= n*p #  E(X)= µx Sonucu\n",
        "\n",
        "    VarX= (n*p)*(1-p) # Var(X) Sonucu\n",
        "\n",
        "    sonucList= [pX0,pX1,pX2,pX3,EX,VarX] # Tüm Sonuçların List'e Eklenmesi\n",
        "\n",
        "    return sonucList\n",
        "\n",
        "\n",
        "atmaSayisi= int(input(\"Paranın kaç kere atılacağının sayısını giriniz: \"))\n",
        "while atmaSayisi<4 :\n",
        " \n",
        "    print(\"\\nPara Atılma Sayısı EN AZ 4 girilmelidir!\")\n",
        "    atmaSayisi= int(input(\"Paranın kaç kere atılacağının sayısını giriniz: \"))\n",
        "\n",
        "yazList= binomialHesapla(atmaSayisi)\n",
        "\n",
        "print(\"\\n\")\n",
        "print(\"P(X=0) = C(n,0)*0.5^0(1-0.5)^n-0 = \",yazList[0])\n",
        "print(\"P(X=1) = C(n,1)*0.5^1(1-0.5)^n-1 = \",yazList[1])\n",
        "print(\"P(X=2) = C(n,2)*0.5^2(1-0.5)^n-2 = \",yazList[2])\n",
        "print(\"P(X=3) = C(n,3)*0.5^3(1-0.5)^n-3 = \",yazList[3])\n",
        "print(\"\\n\")\n",
        "print(\"E[X] = n*0.5 = \",yazList[4])\n",
        "print(\"Var[X] = n*0.5*(1-0.5) = \",yazList[5])\n"
      ],
      "execution_count": 1,
      "outputs": [
        {
          "output_type": "stream",
          "text": [
            "Paranın kaç kere atılacağının sayısını giriniz: 4\n",
            "\n",
            "\n",
            "P(X=0) = C(n,0)*0.5^0(1-0.5)^n-0 =  0.0625\n",
            "P(X=1) = C(n,1)*0.5^1(1-0.5)^n-1 =  0.25\n",
            "P(X=2) = C(n,2)*0.5^2(1-0.5)^n-2 =  0.375\n",
            "P(X=3) = C(n,3)*0.5^3(1-0.5)^n-3 =  0.25\n",
            "\n",
            "\n",
            "E[X] = n*0.5 =  2.0\n",
            "Var[X] = n*0.5*(1-0.5) =  1.0\n"
          ],
          "name": "stdout"
        }
      ]
    }
  ]
}